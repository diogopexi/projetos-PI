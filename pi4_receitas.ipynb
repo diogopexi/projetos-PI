{
  "nbformat": 4,
  "nbformat_minor": 0,
  "metadata": {
    "colab": {
      "provenance": [],
      "authorship_tag": "ABX9TyNDe3CeyuR1JQaGie40t8Zj",
      "include_colab_link": true
    },
    "kernelspec": {
      "name": "python3",
      "display_name": "Python 3"
    },
    "language_info": {
      "name": "python"
    }
  },
  "cells": [
    {
      "cell_type": "markdown",
      "metadata": {
        "id": "view-in-github",
        "colab_type": "text"
      },
      "source": [
        "<a href=\"https://colab.research.google.com/github/diogopexi/projetos-PI/blob/main/pi4_receitas.ipynb\" target=\"_parent\"><img src=\"https://colab.research.google.com/assets/colab-badge.svg\" alt=\"Open In Colab\"/></a>"
      ]
    },
    {
      "cell_type": "code",
      "execution_count": 5,
      "metadata": {
        "colab": {
          "base_uri": "https://localhost:8080/"
        },
        "id": "owDOHEo_hcC-",
        "outputId": "ff7d7575-a0dd-4fd9-bed8-505836e9f9df"
      },
      "outputs": [
        {
          "output_type": "stream",
          "name": "stdout",
          "text": [
            "Digite o nome do prato (ex: chicken, salad): lasagna\n",
            "\n",
            "🍽️ Receita encontrada: Vegan Lasagna\n",
            "📌 Categoria: Vegan | Origem: Italian\n",
            "📷 Imagem: https://www.themealdb.com/images/media/meals/rvxxuy1468312893.jpg\n",
            "\n",
            "👉 Ingredientes:\n",
            "- green red lentils (1 cups)\n",
            "- Carrots (1)\n",
            "- onion (1)\n",
            "- zucchini (1 small)\n",
            "- coriander (sprinking)\n",
            "- spinach (150g)\n",
            "- lasagne sheets (10)\n",
            "- vegan butter (35g)\n",
            "- flour (4 tablespoons)\n",
            "- soya milk (300ml)\n",
            "- mustard (1.5 teaspoons)\n",
            "- vinegar (1 teaspoon)\n",
            "\n",
            "📝 Instruções:\n",
            "1) Preheat oven to 180 degrees celcius. \n",
            "2) Boil vegetables for 5-7 minutes, until soft. Add lentils and bring to a gentle simmer, adding a stock cube if desired. Continue cooking and stirring until the lentils are soft, which should take about 20 minutes. \n",
            "3) Blanch spinach leaves for a few minutes in a pan, before removing and setting aside. \n",
            "4) Top up the pan with water and cook the lasagne sheets. When cooked, drain and set aside.\n",
            "5) To make the sauce, melt the butter and add the flour, then gradually add the soya milk along with the mustard and the vinegar. Cook and stir until smooth and then assemble the lasagne as desired in a baking dish. \n",
            "6) Bake in the preheated oven for about 25 minutes.\n"
          ]
        }
      ],
      "source": [
        "import requests\n",
        "\n",
        "def buscar_receita(prato: str):\n",
        "    base_url = \"https://www.themealdb.com/api/json/v1/1/search.php\"\n",
        "    params = {\"s\": prato}\n",
        "\n",
        "    resposta = requests.get(base_url, params=params)\n",
        "\n",
        "    if resposta.status_code == 200:\n",
        "        dados = resposta.json()\n",
        "        if dados[\"meals\"] is not None:\n",
        "            receita = dados[\"meals\"][0]\n",
        "            print(f\"\\n🍽️ Receita encontrada: {receita['strMeal']}\")\n",
        "            print(f\"📌 Categoria: {receita['strCategory']} | Origem: {receita['strArea']}\")\n",
        "            print(f\"📷 Imagem: {receita['strMealThumb']}\\n\")\n",
        "\n",
        "            print(\"👉 Ingredientes:\")\n",
        "            for i in range(1, 21):  # a API tem até 20 ingredientes\n",
        "                ingrediente = receita.get(f\"strIngredient{i}\")\n",
        "                medida = receita.get(f\"strMeasure{i}\")\n",
        "                if ingrediente and ingrediente.strip():\n",
        "                    print(f\"- {ingrediente} ({medida.strip() if medida else ''})\")\n",
        "\n",
        "            print(\"\\n📝 Instruções:\")\n",
        "            print(receita[\"strInstructions\"])\n",
        "        else:\n",
        "            print(\"Nenhuma receita encontrada para esse prato.\")\n",
        "    else:\n",
        "        print(\"Erro ao acessar a API.\")\n",
        "\n",
        "# Exemplo de uso\n",
        "if __name__ == \"__main__\":\n",
        "    prato = input(\"Digite o nome do prato (ex: chicken, salad): \")\n",
        "    buscar_receita(prato)\n"
      ]
    }
  ]
}